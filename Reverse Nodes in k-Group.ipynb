{
 "cells": [
  {
   "cell_type": "markdown",
   "metadata": {},
   "source": [
    "### A solution to: https://leetcode.com/problems/reverse-nodes-in-k-group/\n"
   ]
  },
  {
   "cell_type": "code",
   "execution_count": 35,
   "metadata": {},
   "outputs": [],
   "source": [
    "# Definition for singly-linked list. Borrowed from leetcode.com/problems/reverse-node-in-k-group\n",
    "class ListNode(object):\n",
    "    def __init__(self, val=0, next=None):\n",
    "        self.val = val\n",
    "        self.next = next"
   ]
  },
  {
   "cell_type": "code",
   "execution_count": 36,
   "metadata": {},
   "outputs": [],
   "source": [
    "# working function to reverse a linked list in O(1) memory\n",
    "def reverse_linkedlist(head):\n",
    "    prevNode = None\n",
    "    nextNode = None\n",
    "    currentNode = head\n",
    "    while (currentNode!= None):\n",
    "        nextNode = currentNode.next\n",
    "        currentNode.next = prevNode\n",
    "        prevNode = currentNode\n",
    "        currentNode = nextNode   # at the end, null\n",
    "    return [prevNode, currentNode]"
   ]
  },
  {
   "cell_type": "code",
   "execution_count": 41,
   "metadata": {},
   "outputs": [],
   "source": [
    "def make_linkedList(num_nodes):  # nodes go 1, 2, 3, 4, ....num_nodes-1, by default\n",
    "    head = ListNode(1)\n",
    "    walker = head    # inspired by the name 'page table walker' in architecture, somehow\n",
    "    for i in range(2, num_nodes+1):\n",
    "        walker.next = ListNode(i)\n",
    "        walker = walker.next\n",
    "    return head"
   ]
  },
  {
   "cell_type": "code",
   "execution_count": 42,
   "metadata": {},
   "outputs": [
    {
     "name": "stdout",
     "output_type": "stream",
     "text": [
      "list element:  6\n",
      "list element:  5\n",
      "list element:  4\n",
      "list element:  3\n",
      "list element:  2\n",
      "list element:  1\n"
     ]
    }
   ],
   "source": [
    "# test the above function\n",
    "head = make_linkedList(6)\n",
    "rev_head = reverse_linkedlist(head)[0]\n",
    "while rev_head!= None:\n",
    "    print(\"list element: \", rev_head.val)\n",
    "    rev_head = rev_head.next"
   ]
  },
  {
   "cell_type": "code",
   "execution_count": 39,
   "metadata": {},
   "outputs": [],
   "source": [
    "# modified linkedlist reversing function, to reverse k nodes at a time\n",
    "def reverse_linkedlist_k(head, k):\n",
    "    prevNode = None\n",
    "    nextNode = None\n",
    "    currentNode = head\n",
    "    i = 1   # number of reversals done so far\n",
    "    while (currentNode!= None and i<=k):\n",
    "        nextNode = currentNode.next\n",
    "        currentNode.next = prevNode\n",
    "        prevNode = currentNode\n",
    "        currentNode = nextNode   # at the end, null\n",
    "        i+=1\n",
    "        # This following part undoes first reveral when i<=k, as required\n",
    "        if currentNode == None and i<=k and i>1:  # reached end of list without adding as many reversals\n",
    "            print(\"Found last group with fewer than k elements!\", \" reversals done = \", i-1, \", k = \", k)\n",
    "            [prev, current] = reverse_linkedlist(prevNode) # undo the i reversals, 1 does not need a reversal\n",
    "            return [prev, current]\n",
    "    return [prevNode, currentNode]"
   ]
  },
  {
   "cell_type": "code",
   "execution_count": 40,
   "metadata": {},
   "outputs": [],
   "source": [
    "# (1) Reverse in groups of k + (2) Link op last Node of first reversed group to first Node of new reversed group\n",
    "def reverse_and_link_k_groups(head, k):\n",
    "    final_head = None\n",
    "    lastNode = \"\"\n",
    "    lastLink = None\n",
    "    while lastNode !=None:\n",
    "        results = reverse_linkedlist_k(head, k)\n",
    "        rev_head = results[0]\n",
    "        if lastLink !=None:  # lastlink is the last node of a reversed group\n",
    "            lastLink.next = rev_head    # link it to first node of next reversed group\n",
    "            print(\"last link is: \", lastLink.val, \" and is linked to: \", rev_head.val)\n",
    "        else:               # reversed head of first group is the first element of linked list\n",
    "            final_head = rev_head\n",
    "            print(\"final head is: \", final_head.val)\n",
    "        while rev_head!= None:\n",
    "            print(\"list element: \", rev_head.val)\n",
    "            if rev_head.next == None:  # if last element of reversed group, it is the \"lastLink\"\n",
    "                lastLink = rev_head \n",
    "                print(\"last link number is: \", lastLink.val)\n",
    "            rev_head = rev_head.next\n",
    "        lastNode = results[1]\n",
    "        head = lastNode\n",
    "    return final_head"
   ]
  },
  {
   "cell_type": "code",
   "execution_count": 43,
   "metadata": {},
   "outputs": [
    {
     "name": "stdout",
     "output_type": "stream",
     "text": [
      "final head is:  5\n",
      "list element:  5\n",
      "list element:  4\n",
      "list element:  3\n",
      "list element:  2\n",
      "list element:  1\n",
      "last link number is:  1\n",
      "last link is:  1  and is linked to:  10\n",
      "list element:  10\n",
      "list element:  9\n",
      "list element:  8\n",
      "list element:  7\n",
      "list element:  6\n",
      "last link number is:  6\n",
      "last link is:  6  and is linked to:  15\n",
      "list element:  15\n",
      "list element:  14\n",
      "list element:  13\n",
      "list element:  12\n",
      "list element:  11\n",
      "last link number is:  11\n",
      "last link is:  11  and is linked to:  20\n",
      "list element:  20\n",
      "list element:  19\n",
      "list element:  18\n",
      "list element:  17\n",
      "list element:  16\n",
      "last link number is:  16\n"
     ]
    }
   ],
   "source": [
    "# Call the above functions\n",
    "num_nodes = 20\n",
    "head = make_linkedList(num_nodes)\n",
    "k = 5\n",
    "final_head = reverse_and_link_k_groups(head, k)"
   ]
  },
  {
   "cell_type": "code",
   "execution_count": 44,
   "metadata": {},
   "outputs": [
    {
     "name": "stdout",
     "output_type": "stream",
     "text": [
      "list element:  5\n",
      "list element:  4\n",
      "list element:  3\n",
      "list element:  2\n",
      "list element:  1\n",
      "list element:  10\n",
      "list element:  9\n",
      "list element:  8\n",
      "list element:  7\n",
      "list element:  6\n",
      "list element:  15\n",
      "list element:  14\n",
      "list element:  13\n",
      "list element:  12\n",
      "list element:  11\n",
      "list element:  20\n",
      "list element:  19\n",
      "list element:  18\n",
      "list element:  17\n",
      "list element:  16\n"
     ]
    }
   ],
   "source": [
    "# print out our final - k-reversed and linked - linkedlist\n",
    "while final_head!= None:\n",
    "    print(\"list element: \", final_head.val)\n",
    "    final_head = final_head.next"
   ]
  },
  {
   "cell_type": "code",
   "execution_count": 45,
   "metadata": {},
   "outputs": [
    {
     "name": "stdout",
     "output_type": "stream",
     "text": [
      "final head is:  5\n",
      "list element:  5\n",
      "list element:  4\n",
      "list element:  3\n",
      "list element:  2\n",
      "list element:  1\n",
      "last link number is:  1\n",
      "last link is:  1  and is linked to:  10\n",
      "list element:  10\n",
      "list element:  9\n",
      "list element:  8\n",
      "list element:  7\n",
      "list element:  6\n",
      "last link number is:  6\n",
      "last link is:  6  and is linked to:  15\n",
      "list element:  15\n",
      "list element:  14\n",
      "list element:  13\n",
      "list element:  12\n",
      "list element:  11\n",
      "last link number is:  11\n",
      "Found last group with fewer than k elements!  reversals done =  4 , k =  5\n",
      "last link is:  11  and is linked to:  16\n",
      "list element:  16\n",
      "list element:  17\n",
      "list element:  18\n",
      "list element:  19\n",
      "last link number is:  19\n"
     ]
    }
   ],
   "source": [
    "# Second test, size of linked list not perfect multiple of k\n",
    "# Call the above functions\n",
    "num_nodes = 19\n",
    "head = make_linkedList(num_nodes)\n",
    "k = 5\n",
    "final_head = reverse_and_link_k_groups(head, k)"
   ]
  },
  {
   "cell_type": "code",
   "execution_count": 46,
   "metadata": {},
   "outputs": [
    {
     "name": "stdout",
     "output_type": "stream",
     "text": [
      "list element:  5\n",
      "list element:  4\n",
      "list element:  3\n",
      "list element:  2\n",
      "list element:  1\n",
      "list element:  10\n",
      "list element:  9\n",
      "list element:  8\n",
      "list element:  7\n",
      "list element:  6\n",
      "list element:  15\n",
      "list element:  14\n",
      "list element:  13\n",
      "list element:  12\n",
      "list element:  11\n",
      "list element:  16\n",
      "list element:  17\n",
      "list element:  18\n",
      "list element:  19\n"
     ]
    }
   ],
   "source": [
    "# print out our final - k-reversed and linked - linkedlist\n",
    "while final_head!= None:\n",
    "    print(\"list element: \", final_head.val)\n",
    "    final_head = final_head.next"
   ]
  },
  {
   "cell_type": "markdown",
   "metadata": {},
   "source": [
    "### The End!"
   ]
  },
  {
   "cell_type": "code",
   "execution_count": null,
   "metadata": {},
   "outputs": [],
   "source": []
  }
 ],
 "metadata": {
  "kernelspec": {
   "display_name": "Python 3",
   "language": "python",
   "name": "python3"
  },
  "language_info": {
   "codemirror_mode": {
    "name": "ipython",
    "version": 3
   },
   "file_extension": ".py",
   "mimetype": "text/x-python",
   "name": "python",
   "nbconvert_exporter": "python",
   "pygments_lexer": "ipython3",
   "version": "3.7.6"
  }
 },
 "nbformat": 4,
 "nbformat_minor": 4
}
