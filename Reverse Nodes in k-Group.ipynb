{
 "cells": [
  {
   "cell_type": "code",
   "execution_count": 1,
   "metadata": {},
   "outputs": [],
   "source": [
    "# Definition for singly-linked list. Borrowed from leetcode.com/problems/reverse-node-in-k-group\n",
    "\n",
    "class ListNode(object):\n",
    "    def __init__(self, val=0, next=None):\n",
    "        self.val = val\n",
    "        self.next = next"
   ]
  },
  {
   "cell_type": "code",
   "execution_count": 4,
   "metadata": {},
   "outputs": [],
   "source": [
    "# working function to reverse a linked list in O(1) memory\n",
    "def reverse_linkedlist(head):\n",
    "    prevNode = None\n",
    "    nextNode = None\n",
    "    currentNode = head\n",
    "    while (currentNode!= None):\n",
    "        nextNode = currentNode.next\n",
    "        currentNode.next = prevNode\n",
    "        prevNode = currentNode\n",
    "        currentNode = nextNode   # at the end, null\n",
    "    return [prevNode, currentNode]"
   ]
  },
  {
   "cell_type": "code",
   "execution_count": 5,
   "metadata": {},
   "outputs": [
    {
     "name": "stdout",
     "output_type": "stream",
     "text": [
      "list element:  5\n",
      "list element:  4\n",
      "list element:  3\n",
      "list element:  2\n",
      "list element:  1\n"
     ]
    }
   ],
   "source": [
    "# test the above function\n",
    "head = ListNode(1)\n",
    "walker = head    # inspired by the name 'page table walker' in architecture, somehow\n",
    "for i in range(2, 6):\n",
    "    walker.next = ListNode(i)\n",
    "    walker = walker.next\n",
    "\n",
    "rev_head = reverse_linkedlist(head)[0]\n",
    "while rev_head!= None:\n",
    "    print(\"list element: \", rev_head.val)\n",
    "    rev_head = rev_head.next"
   ]
  },
  {
   "cell_type": "code",
   "execution_count": 10,
   "metadata": {},
   "outputs": [],
   "source": [
    "# modified linkedlist reversing function, to reverse k nodes at a time\n",
    "def reverse_linkedlist_k(head, k):\n",
    "    prevNode = None\n",
    "    nextNode = None\n",
    "    currentNode = head\n",
    "    i = 1\n",
    "    while (currentNode!= None and i<=k):\n",
    "        nextNode = currentNode.next\n",
    "        currentNode.next = prevNode\n",
    "        prevNode = currentNode\n",
    "        currentNode = nextNode   # at the end, null\n",
    "        i+=1\n",
    "    return [prevNode, currentNode]"
   ]
  },
  {
   "cell_type": "code",
   "execution_count": 13,
   "metadata": {},
   "outputs": [
    {
     "name": "stdout",
     "output_type": "stream",
     "text": [
      "final head is:  2\n",
      "list element:  2\n",
      "list element:  1\n",
      "last link number is:  1\n",
      "last link is:  1  and is linked to:  4\n",
      "list element:  4\n",
      "list element:  3\n",
      "last link number is:  3\n",
      "last link is:  3  and is linked to:  6\n",
      "list element:  6\n",
      "list element:  5\n",
      "last link number is:  5\n",
      "last link is:  5  and is linked to:  8\n",
      "list element:  8\n",
      "list element:  7\n",
      "last link number is:  7\n",
      "last link is:  7  and is linked to:  9\n",
      "list element:  9\n",
      "last link number is:  9\n"
     ]
    }
   ],
   "source": [
    "# Now we reverse the linked list in groups of k<n elements at a time, \n",
    "# ignoring the last group if it is not a multiple of k\n",
    "\n",
    "# Build a LinkedList\n",
    "head = ListNode(1)\n",
    "walker = head    # inspired by the name 'page table walker' in architecture, somehow\n",
    "for i in range(2, 10):\n",
    "    walker.next = ListNode(i)\n",
    "    walker = walker.next\n",
    "\n",
    "# (1) Reverse in groups of k + (2) Link op last Node of first reversed group to first Node of new reversed group\n",
    "final_head = None\n",
    "lastNode = \"\"\n",
    "lastLink = None\n",
    "while lastNode !=None:\n",
    "    results = reverse_linkedlist_k(head, 2)\n",
    "    rev_head = results[0]\n",
    "    if lastLink !=None:  # lastlink is the last node of a reversed group\n",
    "        lastLink.next = rev_head    # link it to first node of next reversed group\n",
    "        print(\"last link is: \", lastLink.val, \" and is linked to: \", rev_head.val)\n",
    "    else:               # reversed head of first group is the first element of linked list\n",
    "        final_head = rev_head\n",
    "        print(\"final head is: \", final_head.val)\n",
    "    while rev_head!= None:\n",
    "        print(\"list element: \", rev_head.val)\n",
    "        if rev_head.next == None:  # if last element of reversed group, it is the \"lastLink\"\n",
    "            lastLink = rev_head \n",
    "            print(\"last link number is: \", lastLink.val)\n",
    "        rev_head = rev_head.next\n",
    "    lastNode = results[1]\n",
    "    head = lastNode"
   ]
  },
  {
   "cell_type": "code",
   "execution_count": 14,
   "metadata": {},
   "outputs": [
    {
     "name": "stdout",
     "output_type": "stream",
     "text": [
      "list element:  2\n",
      "list element:  1\n",
      "list element:  4\n",
      "list element:  3\n",
      "list element:  6\n",
      "list element:  5\n",
      "list element:  8\n",
      "list element:  7\n",
      "list element:  9\n"
     ]
    }
   ],
   "source": [
    "# Mostly done, all groups reversed and linked in the way mentioned at: https://leetcode.com/problems/reverse-nodes-in-k-group/\n",
    "while final_head!= None:\n",
    "    print(\"list element: \", final_head.val)\n",
    "    final_head = final_head.next"
   ]
  },
  {
   "cell_type": "code",
   "execution_count": 12,
   "metadata": {},
   "outputs": [],
   "source": [
    "#### Just one more thing left: when last group has elements less than n, \n",
    "#### don't reverse at all! Too tired to think about that rn"
   ]
  }
 ],
 "metadata": {
  "kernelspec": {
   "display_name": "Python 3",
   "language": "python",
   "name": "python3"
  },
  "language_info": {
   "codemirror_mode": {
    "name": "ipython",
    "version": 3
   },
   "file_extension": ".py",
   "mimetype": "text/x-python",
   "name": "python",
   "nbconvert_exporter": "python",
   "pygments_lexer": "ipython3",
   "version": "3.7.6"
  }
 },
 "nbformat": 4,
 "nbformat_minor": 4
}
