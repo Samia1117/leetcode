{
 "cells": [
  {
   "cell_type": "markdown",
   "metadata": {},
   "source": [
    "For a fun story behind the inspiration to code this stuff, check DP01!"
   ]
  },
  {
   "cell_type": "code",
   "execution_count": 9,
   "metadata": {},
   "outputs": [],
   "source": [
    "# Assume values and weights are parallel lists\n",
    "# capacity = capacity of the bag to hold items which have both some value and some weight. Total weight of \n",
    "# items must be less than or equal to capacity.\n",
    "# Maximize total value, under these constraints\n",
    "\n",
    "def knapsack(values, weights, capacity):\n",
    "    # base cases\n",
    "    if len(values) ==0 or capacity<=0:\n",
    "        return 0\n",
    "    if len(values)==1:\n",
    "        if values[0] <= capacity:\n",
    "            print(\"values[0] : \", values[0], ' capacity: ', capacity)\n",
    "            return values[0]\n",
    "        else:\n",
    "            return 0\n",
    "    else:\n",
    "        max1 = knapsack(values[1:], weights[1:], capacity-weights[0]) \n",
    "        if weights[0]<= capacity:\n",
    "            max1 += values[0]  # include values[0]\n",
    "            print(\"max1: \", max1)\n",
    "        max2 = knapsack(values[1:], weights[1:], capacity)  # don't include values[0]\n",
    "        print(\"max2: \", max2)\n",
    "        return max(max1, max2)"
   ]
  },
  {
   "cell_type": "code",
   "execution_count": 7,
   "metadata": {},
   "outputs": [
    {
     "name": "stdout",
     "output_type": "stream",
     "text": [
      "3\n"
     ]
    }
   ],
   "source": [
    "values = [1,2,3]\n",
    "weights = [4,5,1]\n",
    "capacity = 4\n",
    "\n",
    "result = knapsack(values, weights, capacity)\n",
    "print(result)"
   ]
  },
  {
   "cell_type": "code",
   "execution_count": 10,
   "metadata": {},
   "outputs": [
    {
     "name": "stdout",
     "output_type": "stream",
     "text": [
      "max2:  3\n",
      "max2:  3\n",
      "3\n"
     ]
    }
   ],
   "source": [
    "values = [1,2,3]\n",
    "weights = [4,5,6]\n",
    "capacity = 3\n",
    "\n",
    "result = knapsack(values, weights, capacity)\n",
    "print(result)"
   ]
  },
  {
   "cell_type": "code",
   "execution_count": null,
   "metadata": {},
   "outputs": [],
   "source": []
  }
 ],
 "metadata": {
  "kernelspec": {
   "display_name": "Python 3",
   "language": "python",
   "name": "python3"
  },
  "language_info": {
   "codemirror_mode": {
    "name": "ipython",
    "version": 3
   },
   "file_extension": ".py",
   "mimetype": "text/x-python",
   "name": "python",
   "nbconvert_exporter": "python",
   "pygments_lexer": "ipython3",
   "version": "3.7.6"
  }
 },
 "nbformat": 4,
 "nbformat_minor": 4
}
