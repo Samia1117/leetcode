{
 "cells": [
  {
   "cell_type": "markdown",
   "metadata": {},
   "source": [
    "## Description in main function: removeIslands"
   ]
  },
  {
   "cell_type": "code",
   "execution_count": 41,
   "metadata": {},
   "outputs": [
    {
     "data": {
      "text/plain": [
       "<matplotlib.image.AxesImage at 0x22f30ed00c8>"
      ]
     },
     "execution_count": 41,
     "metadata": {},
     "output_type": "execute_result"
    },
    {
     "data": {
      "image/png": "[encoded data removed]",
      "text/plain": [
       "<Figure size 432x288 with 1 Axes>"
      ]
     },
     "metadata": {
      "needs_background": "light"
     },
     "output_type": "display_data"
    }
   ],
   "source": [
    "import random\n",
    "import numpy as np\n",
    "import matplotlib.pyplot as plt\n",
    "\n",
    "matrix = [[0, 1, 0, 0, 0, 0, 0, 1], [1, 1, 1, 1, 1, 1, 1, 1], [0, 1, 0, 1, 0, 1, 0, 1],\n",
    "          [1, 1, 1, 1, 0, 1, 1, 1], [0, 1, 0, 0, 0, 1, 0, 1], [1, 1, 1, 1, 1, 1, 1, 1],\n",
    "          [0, 1, 0, 0, 1, 0, 0, 0]]\n",
    "n = len(matrix)\n",
    "m = len(matrix[0])\n",
    "max_point = n*m -1\n",
    "min_point = 0\n",
    "# print(matrix)\n",
    "\n",
    "nparr = np.array(matrix)  # Pretty little islands\n",
    "\n",
    "plt.imshow(nparr, cmap=\"gray\") "
   ]
  },
  {
   "cell_type": "code",
   "execution_count": 42,
   "metadata": {},
   "outputs": [],
   "source": [
    "def index_to_row_col(point):\n",
    "    row = point//m\n",
    "    col = point%m\n",
    "    return row, col\n",
    "\n",
    "def inGrid(starting_point):\n",
    "    if starting_point>max_point:\n",
    "        return False\n",
    "    if starting_point < min_point:\n",
    "        return False\n",
    "    return True"
   ]
  },
  {
   "cell_type": "code",
   "execution_count": 43,
   "metadata": {},
   "outputs": [],
   "source": [
    "def largest_connected_segment(starting_point, boundary_pixels, visited_so_far):\n",
    "    \n",
    "    if starting_point in boundary_pixels:\n",
    "        boundary_pixels.remove(starting_point)\n",
    "        visited_so_far.add(starting_point)\n",
    "        print(\"visited so far: \", visited_so_far)\n",
    "\n",
    "    if inGrid(starting_point+1) and starting_point+1 not in visited_so_far:\n",
    "        i,j = index_to_row_col(starting_point+1)\n",
    "        if matrix[i][j] ==0: # right\n",
    "            visited_so_far.add(starting_point+1)\n",
    "            print(\"visited so far: \", visited_so_far)\n",
    "            visited_so_far = largest_connected_segment(starting_point+1, boundary_pixels, visited_so_far)\n",
    "            print(\"added from right\", visited_so_far)\n",
    "      \n",
    "    if inGrid(starting_point-1) and starting_point-1 not in visited_so_far: # left\n",
    "        i,j = index_to_row_col(starting_point-1)\n",
    "        if matrix[i][j] ==0:\n",
    "            visited_so_far.add(starting_point-1)\n",
    "            print(\"visited so far: \", visited_so_far)\n",
    "            visited_so_far = largest_connected_segment(starting_point-1, boundary_pixels, visited_so_far)\n",
    "            print(\"added from left\", visited_so_far)\n",
    "\n",
    "    if inGrid(starting_point+m) and starting_point+m not in visited_so_far: # bottom\n",
    "        i,j = index_to_row_col(starting_point+m)\n",
    "        if matrix[i][j] ==0:\n",
    "            visited_so_far.add(starting_point+m)\n",
    "            print(\"visited so far: \", visited_so_far)\n",
    "            visited_so_far = largest_connected_segment(starting_point+m, boundary_pixels, visited_so_far)\n",
    "            print(\"added from below\", visited_so_far)\n",
    "            \n",
    "    if inGrid(starting_point-m) and starting_point-m not in visited_so_far: # top\n",
    "        i,j = index_to_row_col(starting_point-m)\n",
    "        if matrix[i][j] ==0:\n",
    "            visited_so_far.add(starting_point-m)\n",
    "            print(\"visited so far: \", visited_so_far)\n",
    "            visited_so_far = largest_connected_segment(starting_point-m, boundary_pixels, visited_so_far)\n",
    "            print(\"added from above\", visited_so_far)\n",
    "    return visited_so_far\n",
    "\n"
   ]
  },
  {
   "cell_type": "code",
   "execution_count": 44,
   "metadata": {},
   "outputs": [],
   "source": [
    "'''\n",
    "Input: A 2D matrix of 0's and 1's\n",
    " - 1 represents a black pixel\n",
    " - 0 represents a white  pixel\n",
    "Goal: remove all black pixels that are 'islands' - \n",
    "i.e. black pixels that are not connected to the boundary of the matrix\n",
    "Output: modified picture - all black pixels are now white!\n",
    "'''\n",
    "def removeIslands(matrix):\n",
    "# Plan: Number each pixel: 0, 1, 2, ... n*m-1\n",
    "# Keep track of pixels visited so that we don't infinitely loop \n",
    "# Count all pixels which are reachable from boundary pixels as those that we want to keep\n",
    "# For any remaining pixels (they are visited in the order 0,1,..n*m-1) in matrix which are both: not in 'visited set' and are black, turn them white - aka remove island black pixels\n",
    "\n",
    "## Main idea: just choose a starting point from the set of boundary pixels and do a bfs (dfs would work just as well), and mark all pixels that that starting point can COVER including boundary pixels, which we will remove from current boundary pixel set (so that we don't choose those pixels as starting points again - it would be useless to start from them again as it would give the same connected segment as the bfs that had first found it). \n",
    "# Next, randomly choose another boundary pixel out of those remaining (that have not already been covered in previous bfs s)\n",
    "# In this way, we get the maximum non island chunk from every boundary pixel (may be 1 pixel big) so we can just loop until the set of boundary pixels is \n",
    "    \n",
    "    top = [i for i in range(m) if matrix[0][i] ==0]\n",
    "    left = [j*m for j in range(n) if matrix[j][0] == 0]\n",
    "    right = [(k+1)*m-1 for k in range(n) if matrix[k][-1] == 0]\n",
    "    bottom = [i+((n-1)*m) for i in range(m) if matrix[-1][i] ==0]\n",
    "    # all possible starting points\n",
    "    boundary_pixels = set(top + left + bottom+ right)\n",
    "  \n",
    "    print(\"boundary pixels: \" , boundary_pixels)\n",
    "\n",
    "    visited_so_far= set([])\n",
    "\n",
    "    while len(boundary_pixels) != 0:\n",
    "        starting_point = random.choice(list(boundary_pixels))\n",
    "        #print(starting_point)\n",
    "        visited_so_far = largest_connected_segment(starting_point, boundary_pixels, visited_so_far)\n",
    "\n",
    "    print(visited_so_far)\n",
    "    #print(\"boundary pixels:\", boundary_pixels)  \n",
    "  \n",
    "  # Now get rid of all black pixels that are not in 'visited_so_far' - they are island black pixels\n",
    "    count = 0\n",
    "    islands_removed = matrix.copy()\n",
    "     # Pretty little islands again - reminder of how it looks against the island removed version\n",
    "    oldimg = np.array(matrix)   \n",
    "    plt.imshow(oldimg, cmap=\"gray\")\n",
    "\n",
    "    while (count<=max_point):\n",
    "        p, q = index_to_row_col(count)\n",
    "        #print(p,q)\n",
    "        if count not in visited_so_far and matrix[p][q] ==0:\n",
    "            #print(\"found  black island with indices!\", count, (p,q))\n",
    "            islands_removed[p][q] = 1  # turn black pixel not part of boundary to white!\n",
    "        count +=1\n",
    "    return oldimg, islands_removed, visited_so_far"
   ]
  },
  {
   "cell_type": "code",
   "execution_count": 45,
   "metadata": {},
   "outputs": [
    {
     "name": "stdout",
     "output_type": "stream",
     "text": [
      "boundary pixels:  {0, 32, 2, 3, 4, 5, 6, 16, 48, 50, 51, 53, 54, 55}\n",
      "visited so far:  {48}\n",
      "visited so far:  {48, 6}\n",
      "visited so far:  {48, 5, 6}\n",
      "visited so far:  {48, 5, 6}\n",
      "visited so far:  {48, 4, 5, 6}\n",
      "visited so far:  {48, 4, 5, 6}\n",
      "visited so far:  {3, 4, 5, 6, 48}\n",
      "visited so far:  {3, 4, 5, 6, 48}\n",
      "visited so far:  {2, 3, 4, 5, 6, 48}\n",
      "visited so far:  {2, 3, 4, 5, 6, 48}\n",
      "added from left {2, 3, 4, 5, 6, 48}\n",
      "added from left {2, 3, 4, 5, 6, 48}\n",
      "added from left {2, 3, 4, 5, 6, 48}\n",
      "added from left {2, 3, 4, 5, 6, 48}\n",
      "visited so far:  {2, 3, 4, 5, 6, 48, 55}\n",
      "visited so far:  {2, 3, 4, 5, 6, 48, 54, 55}\n",
      "visited so far:  {2, 3, 4, 5, 6, 48, 54, 55}\n",
      "visited so far:  {2, 3, 4, 5, 6, 48, 53, 54, 55}\n",
      "visited so far:  {2, 3, 4, 5, 6, 48, 53, 54, 55}\n",
      "added from left {2, 3, 4, 5, 6, 48, 53, 54, 55}\n",
      "added from left {2, 3, 4, 5, 6, 48, 53, 54, 55}\n",
      "visited so far:  {2, 3, 4, 5, 6, 48, 50, 53, 54, 55}\n",
      "visited so far:  {2, 3, 4, 5, 6, 48, 50, 51, 53, 54, 55}\n",
      "visited so far:  {2, 3, 4, 5, 6, 48, 50, 51, 53, 54, 55}\n",
      "added from right {2, 3, 4, 5, 6, 48, 50, 51, 53, 54, 55}\n",
      "visited so far:  {32, 2, 3, 4, 5, 6, 48, 50, 51, 53, 54, 55}\n",
      "visited so far:  {32, 2, 3, 4, 5, 6, 48, 16, 50, 51, 53, 54, 55}\n",
      "visited so far:  {32, 0, 2, 3, 4, 5, 6, 48, 16, 50, 51, 53, 54, 55}\n",
      "{32, 0, 2, 3, 4, 5, 6, 48, 16, 50, 51, 53, 54, 55}\n",
      "[[0, 1, 0, 0, 0, 0, 0, 1], [1, 1, 1, 1, 1, 1, 1, 1], [0, 1, 1, 1, 1, 1, 1, 1], [1, 1, 1, 1, 1, 1, 1, 1], [0, 1, 1, 1, 1, 1, 1, 1], [1, 1, 1, 1, 1, 1, 1, 1], [0, 1, 0, 0, 1, 0, 0, 0]]\n"
     ]
    },
    {
     "data": {
      "image/png": "[encoded data removed]",
      "text/plain": [
       "<Figure size 432x288 with 1 Axes>"
      ]
     },
     "metadata": {
      "needs_background": "light"
     },
     "output_type": "display_data"
    }
   ],
   "source": [
    "oldimg, islands_removed, visited_so_far = removeIslands(matrix)\n",
    "print(islands_removed)"
   ]
  },
  {
   "cell_type": "code",
   "execution_count": 46,
   "metadata": {},
   "outputs": [
    {
     "data": {
      "text/plain": [
       "<matplotlib.image.AxesImage at 0x22f30ee1788>"
      ]
     },
     "execution_count": 46,
     "metadata": {},
     "output_type": "execute_result"
    },
    {
     "data": {
      "image/png": "[encoded data removed]",
      "text/plain": [
       "<Figure size 432x288 with 1 Axes>"
      ]
     },
     "metadata": {
      "needs_background": "light"
     },
     "output_type": "display_data"
    }
   ],
   "source": [
    "# picture with 'islands' removed\n",
    "newimg = np.array(islands_removed) \n",
    "plt.imshow(newimg, cmap=\"gray\") "
   ]
  },
  {
   "cell_type": "markdown",
   "metadata": {},
   "source": [
    "#### Thanks ! (this was part of a challenge in a Google interview)"
   ]
  }
 ],
 "metadata": {
  "kernelspec": {
   "display_name": "Python 3",
   "language": "python",
   "name": "python3"
  },
  "language_info": {
   "codemirror_mode": {
    "name": "ipython",
    "version": 3
   },
   "file_extension": ".py",
   "mimetype": "text/x-python",
   "name": "python",
   "nbconvert_exporter": "python",
   "pygments_lexer": "ipython3",
   "version": "3.7.6"
  }
 },
 "nbformat": 4,
 "nbformat_minor": 4
}
