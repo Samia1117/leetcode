{
 "cells": [
  {
   "cell_type": "markdown",
   "metadata": {},
   "source": [
    "input: [0,7,2,1,3,4,8,6,9]\n",
    "\n",
    "output: [0,2,3,4,6,9] (or [0,1,3,4,6,9] or [0,2,3,4,8,9] or,... non unique)\n",
    "\n",
    "\n",
    "This problem resulted in a fun 2 hours discussion with my dear friend O who had come to my place for the first time.\n",
    "I had been stuck on it more than a couple times the previous week, after which I had decided to let it be. Finally brought it up with O, and we, after several times achieving illusions of the right solution, actually got to it, on the attempt when I said it would truly be the last attempt! Then we finally happily checked our answers!\n",
    "My whiteboard looked very pretty this morning from the brainstorming in red, black, blue, teal of yesterday!"
   ]
  },
  {
   "cell_type": "code",
   "execution_count": 33,
   "metadata": {},
   "outputs": [],
   "source": [
    "def length_of_longest_increasing_subsequence(A): # A = input array, e.g. [1, 4, 2, 6, 5, 8] \n",
    "    # set up the table; DP[i] = length of longest increasing subsequence ending with element A[i]\n",
    "    DP = [0 for k in range(len(A))] \n",
    "    DP[0] = 1         # base case\n",
    "    for i in range(1, len(A)):\n",
    "        for j in reversed(range(i)):\n",
    "            if A[j]<=A[i] and DP[j] > DP[i]:\n",
    "                DP[i] = DP[i] + DP[j]\n",
    "        DP[i] +=1    # include myself\n",
    "    print(DP)\n",
    "    lis = 0\n",
    "    for dp in DP:\n",
    "        if dp>lis:\n",
    "            lis = dp\n",
    "    return lis"
   ]
  },
  {
   "cell_type": "code",
   "execution_count": 34,
   "metadata": {},
   "outputs": [
    {
     "name": "stdout",
     "output_type": "stream",
     "text": [
      "[1, 2, 3, 3, 4, 5, 5, 6]\n",
      "6\n"
     ]
    }
   ],
   "source": [
    "arr = [1,2,9,3,4,13,5,10]  # should be []\n",
    "\n",
    "result = length_of_longest_increasing_subsequence(arr)\n",
    "print(result)"
   ]
  },
  {
   "cell_type": "code",
   "execution_count": 35,
   "metadata": {},
   "outputs": [],
   "source": [
    "def longest_increasing_subsequence(A): # this time, store the sequence itself in the DP table\n",
    "    DP = [[] for k in range(len(A))] \n",
    "    DP[0] = A[0:1]\n",
    "    for i in range(1, len(A)):\n",
    "        for j in reversed(range(i)):\n",
    "            if A[j]<=A[i] and len(DP[j]) > len(DP[i]):\n",
    "                DP[i] = DP[i] + DP[j]\n",
    "        DP[i] += A[i:i+1]   # include myself\n",
    "    print(DP)\n",
    "    # Find the maximum sequence\n",
    "    lis = []\n",
    "    for dp in DP:\n",
    "        if len(dp)>len(lis):\n",
    "            lis = dp\n",
    "    return lis"
   ]
  },
  {
   "cell_type": "code",
   "execution_count": 36,
   "metadata": {},
   "outputs": [
    {
     "name": "stdout",
     "output_type": "stream",
     "text": [
      "[[1], [1, 2], [1, 2, 9], [1, 2, 3], [1, 2, 3, 4], [1, 2, 3, 4, 13], [1, 2, 3, 4, 5], [1, 2, 3, 4, 5, 10]]\n",
      "[1, 2, 3, 4, 5, 10]\n"
     ]
    }
   ],
   "source": [
    "arr = [1,2,9,3,4,13,5,10]  \n",
    "\n",
    "result = longest_increasing_subsequence(arr)\n",
    "print(result)"
   ]
  },
  {
   "cell_type": "code",
   "execution_count": 37,
   "metadata": {},
   "outputs": [
    {
     "name": "stdout",
     "output_type": "stream",
     "text": [
      "[[3], [3, 10], [2], [1], [1, 3, 10, 20]]\n",
      "[1, 3, 10, 20]\n"
     ]
    }
   ],
   "source": [
    "arr = [3, 10, 2, 1, 20]\n",
    "\n",
    "result = longest_increasing_subsequence(arr)\n",
    "print(result)"
   ]
  },
  {
   "cell_type": "code",
   "execution_count": null,
   "metadata": {},
   "outputs": [],
   "source": []
  }
 ],
 "metadata": {
  "kernelspec": {
   "display_name": "Python 3",
   "language": "python",
   "name": "python3"
  },
  "language_info": {
   "codemirror_mode": {
    "name": "ipython",
    "version": 3
   },
   "file_extension": ".py",
   "mimetype": "text/x-python",
   "name": "python",
   "nbconvert_exporter": "python",
   "pygments_lexer": "ipython3",
   "version": "3.7.6"
  }
 },
 "nbformat": 4,
 "nbformat_minor": 4
}
