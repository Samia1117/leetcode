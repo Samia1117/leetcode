{
 "cells": [
  {
   "cell_type": "markdown",
   "metadata": {},
   "source": [
    "Find the minimum number of operations to change string A into string B.\n",
    "\n",
    "Operations (each has equal complexity):\n",
    "1. Insert a character\n",
    "2. Remove a character\n",
    "3. Replace a character\n",
    "\n",
    "Distance between A and B = number of operations needed to edit A to B.\n",
    "Input: string A = 'Sunday', string B = 'Saturday'\n",
    "Output: 3 (operations needed)"
   ]
  },
  {
   "cell_type": "code",
   "execution_count": 3,
   "metadata": {},
   "outputs": [],
   "source": [
    "def edit_distance(strA, strB):\n",
    "    if len(strA) == 0 or len(strB) == 0:\n",
    "        return abs(len(strA) - len(strB))\n",
    "    if strA[0] == strB[0]:\n",
    "        return edit_distance(strA[1:], strB[1:])\n",
    "    else:\n",
    "        a = 1+ edit_distance(strA[1:], strB[1:])  # assume strA[0] replaced by strB[0]\n",
    "        b = 1+ edit_distance(strA[1:], strB)      # assume str[0] was removed (deemed useless)\n",
    "        c = 1+ edit_distance(strA, strB[1:])     # assume strA = strB[0]+ str[A] (strB[0] inserted in first place of strA)\n",
    "        \n",
    "        return (min(min(a,b), c))"
   ]
  },
  {
   "cell_type": "code",
   "execution_count": 4,
   "metadata": {},
   "outputs": [],
   "source": [
    "strA = 'Sunday'\n",
    "strB = 'Saturday'\n",
    "\n",
    "res = edit_distance(strA, strB)\n",
    "print(res)"
   ]
  },
  {
   "cell_type": "code",
   "execution_count": 6,
   "metadata": {},
   "outputs": [
    {
     "name": "stdout",
     "output_type": "stream",
     "text": [
      "3\n"
     ]
    }
   ],
   "source": [
    "strA = 'kitten'\n",
    "strB = 'Sitting'\n",
    "\n",
    "res = edit_distance(strA, strB)\n",
    "print(res)"
   ]
  },
  {
   "cell_type": "code",
   "execution_count": 7,
   "metadata": {},
   "outputs": [
    {
     "name": "stdout",
     "output_type": "stream",
     "text": [
      "1\n"
     ]
    }
   ],
   "source": [
    "strA = 'Cat'\n",
    "strB = 'Cut'\n",
    "\n",
    "res = edit_distance(strA, strB)\n",
    "print(res)"
   ]
  },
  {
   "cell_type": "code",
   "execution_count": 8,
   "metadata": {},
   "outputs": [
    {
     "name": "stdout",
     "output_type": "stream",
     "text": [
      "1\n"
     ]
    }
   ],
   "source": [
    "strA = 'Sunday'\n",
    "strB = 'Saunday'\n",
    "\n",
    "res = edit_distance(strA, strB)\n",
    "print(res)"
   ]
  },
  {
   "cell_type": "code",
   "execution_count": null,
   "metadata": {},
   "outputs": [],
   "source": []
  }
 ],
 "metadata": {
  "kernelspec": {
   "display_name": "Python 3",
   "language": "python",
   "name": "python3"
  },
  "language_info": {
   "codemirror_mode": {
    "name": "ipython",
    "version": 3
   },
   "file_extension": ".py",
   "mimetype": "text/x-python",
   "name": "python",
   "nbconvert_exporter": "python",
   "pygments_lexer": "ipython3",
   "version": "3.7.6"
  }
 },
 "nbformat": 4,
 "nbformat_minor": 4
}
