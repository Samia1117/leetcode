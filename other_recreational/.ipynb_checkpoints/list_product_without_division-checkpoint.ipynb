{
 "cells": [
  {
   "cell_type": "markdown",
   "metadata": {},
   "source": [
    "Given an array of integers, return a new array such that each element at index i of the new array is the product of all the numbers in the original array except the one at i.\n",
    "\n",
    "For example, if our input was [1, 2, 3, 4, 5], the expected output would be [120, 60, 40, 30, 24]. If our input was [3, 2, 1], the expected output would be [2, 3, 6]."
   ]
  },
  {
   "cell_type": "code",
   "execution_count": 5,
   "metadata": {},
   "outputs": [],
   "source": [
    "# Time complexity: 2 for loops, so O(2n) = O(n)\n",
    "# Space complexity: O(1), since using the same array, and just a single other variable\n",
    "\n",
    "# What I learned yesterday is that recursion takes space in the stack, and max about 10000 iterations can be done\n",
    "# So If I'm working with a number n>10000, I should devise an iterative solution, which allocates space in main memory\n",
    "\n",
    "def product_without_me(array):\n",
    "    product = 1\n",
    "    for elt in array:\n",
    "        product *= elt\n",
    "    for i in range(len(array)):\n",
    "        without_me = product/array[i]\n",
    "        array[i] = int(without_me)\n",
    "    return array"
   ]
  },
  {
   "cell_type": "code",
   "execution_count": 6,
   "metadata": {},
   "outputs": [
    {
     "name": "stdout",
     "output_type": "stream",
     "text": [
      "result:  [120, 60, 40, 30, 24]\n"
     ]
    }
   ],
   "source": [
    "lista = [1, 2, 3, 4, 5]\n",
    "result = product_without_me(lista)\n",
    "\n",
    "print(\"result: \", result)"
   ]
  },
  {
   "cell_type": "code",
   "execution_count": 7,
   "metadata": {},
   "outputs": [
    {
     "name": "stdout",
     "output_type": "stream",
     "text": [
      "result2:  [2, 3, 6]\n"
     ]
    }
   ],
   "source": [
    "listb = [3, 2, 1]\n",
    "\n",
    "result2 = product_without_me(listb)\n",
    "\n",
    "print(\"result2: \", result2)"
   ]
  },
  {
   "cell_type": "code",
   "execution_count": 10,
   "metadata": {},
   "outputs": [
    {
     "name": "stdout",
     "output_type": "stream",
     "text": [
      "[]\n"
     ]
    }
   ],
   "source": [
    "arr = [2]\n",
    "\n",
    "print(arr[0:0])"
   ]
  },
  {
   "cell_type": "code",
   "execution_count": 44,
   "metadata": {},
   "outputs": [],
   "source": [
    "# Follow up: what if you can't use division (excludes multiplying by (me)^-1, too)?\n",
    "\n",
    "# This is a pretty good solution wrt to time and space complexity. If I'm not wrong, it uses memoization!\n",
    "\n",
    "# Time complexity: 1 O(n) for loop for product, for each elt in list, max O(n) for loop for calculating \n",
    "# \"product after me\", but it is better than purely O(n^2) because it remembers the product of elements already \n",
    "# encountered; only calculates product of elements not yet traversed (is it possible to remove this requirement??)\n",
    "# Space complexity: O(1), since using the same array, just passing slices of it to helper function\n",
    "\n",
    "def product_after_me(array):\n",
    "    if array == []:\n",
    "        return 1\n",
    "    product = 1\n",
    "    for elt in array:\n",
    "        product *=elt\n",
    "    return product\n",
    "\n",
    "def product_without_me_without_division(array):\n",
    "    product = 1\n",
    "    for elt in array:\n",
    "        product *= elt\n",
    "    product_before_me = 1\n",
    "    for i in range(len(array)):\n",
    "        prod_after_me = product_after_me(array[i+1:])\n",
    "        without_me = product - (array[i]-1)*(product_before_me * prod_after_me)\n",
    "        print(\"product after me, product before me, without me: \", prod_after_me, product_before_me, without_me)\n",
    "        product_before_me *= array[i]\n",
    "        array[i] = without_me\n",
    "    return array"
   ]
  },
  {
   "cell_type": "code",
   "execution_count": 45,
   "metadata": {},
   "outputs": [
    {
     "name": "stdout",
     "output_type": "stream",
     "text": [
      "product after me, product before me, without me:  120 1 120\n",
      "product after me, product before me, without me:  60 1 60\n",
      "product after me, product before me, without me:  20 2 40\n",
      "product after me, product before me, without me:  5 6 30\n",
      "product after me, product before me, without me:  1 24 24\n",
      "result:  [120, 60, 40, 30, 24]\n"
     ]
    }
   ],
   "source": [
    "lista = [1, 2, 3, 4, 5]\n",
    "result = product_without_me_without_division(lista)\n",
    "\n",
    "print(\"result: \", result)"
   ]
  },
  {
   "cell_type": "code",
   "execution_count": null,
   "metadata": {},
   "outputs": [],
   "source": []
  }
 ],
 "metadata": {
  "kernelspec": {
   "display_name": "Python 3",
   "language": "python",
   "name": "python3"
  },
  "language_info": {
   "codemirror_mode": {
    "name": "ipython",
    "version": 3
   },
   "file_extension": ".py",
   "mimetype": "text/x-python",
   "name": "python",
   "nbconvert_exporter": "python",
   "pygments_lexer": "ipython3",
   "version": "3.7.6"
  }
 },
 "nbformat": 4,
 "nbformat_minor": 4
}
