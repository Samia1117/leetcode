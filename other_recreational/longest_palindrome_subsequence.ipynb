{
 "cells": [
  {
   "cell_type": "markdown",
   "metadata": {},
   "source": [
    "(Daily Interview Pro) A palindrome is a sequence of characters that reads the same backwards and forwards. Given a string, s, find the longest palindromic substring in s.\n",
    "\n",
    "Examples:\n",
    "\n",
    "Input: \"banana\"\n",
    "Output: \"anana\"\n",
    "\n",
    "Input: \"million\"\n",
    "Output: \"illi\""
   ]
  },
  {
   "cell_type": "code",
   "execution_count": null,
   "metadata": {},
   "outputs": [],
   "source": [
    "class Solution: \n",
    "    def longestPalindrome(self, s):\n",
    "        # Fill this in.\n",
    "        \n",
    "        \n",
    "        return 0;\n"
   ]
  },
  {
   "cell_type": "code",
   "execution_count": null,
   "metadata": {},
   "outputs": [],
   "source": [
    "# Test program\n",
    "s = \"tracecars\"\n",
    "print(str(Solution().longestPalindrome(s)))\n",
    "# racecar"
   ]
  }
 ],
 "metadata": {
  "kernelspec": {
   "display_name": "Python 3",
   "language": "python",
   "name": "python3"
  },
  "language_info": {
   "codemirror_mode": {
    "name": "ipython",
    "version": 3
   },
   "file_extension": ".py",
   "mimetype": "text/x-python",
   "name": "python",
   "nbconvert_exporter": "python",
   "pygments_lexer": "ipython3",
   "version": "3.7.6"
  }
 },
 "nbformat": 4,
 "nbformat_minor": 4
}
