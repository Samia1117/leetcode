{
 "cells": [
  {
   "cell_type": "code",
   "execution_count": 25,
   "metadata": {},
   "outputs": [],
   "source": [
    "def longest_common_subsequence(sequence1, sequence2):\n",
    "    # base cases:\n",
    "    if len(sequence1) ==0 or len(sequence2)==0:\n",
    "        return ''\n",
    "    if len(sequence1) ==1 or len(sequence2)==1:\n",
    "        if sequence1[0]==sequence2[0]:\n",
    "            #print(\"units match\")\n",
    "            #print(\"sequence 1, sequence 2: \", sequence1, sequence2)\n",
    "            return sequence1[0]\n",
    "        else:\n",
    "            #print(\"no match\")\n",
    "            #print(\"sequence 1, sequence 2: \", sequence1, sequence2)\n",
    "            return ''\n",
    "    # transition step:\n",
    "    max1, max2, max3 = '', '', ''\n",
    "    if sequence1[0]==sequence2[0]:\n",
    "        max1 = sequence1[0] + longest_common_subsequence(sequence1[1:], sequence2[1:])\n",
    "    max2 = longest_common_subsequence(sequence1[1:], sequence2)\n",
    "    max3 = longest_common_subsequence(sequence1, sequence2[1:])\n",
    "    if len(max1)>=len(max2) and len(max1)>=len(max3):\n",
    "        return max1\n",
    "    elif len(max2)>=len(max1) and len(max2)>=len(max3):\n",
    "        return max2\n",
    "    else:\n",
    "        return max3"
   ]
  },
  {
   "cell_type": "code",
   "execution_count": 26,
   "metadata": {},
   "outputs": [],
   "source": [
    "# guess?\n",
    "seq1 = 'ababb'\n",
    "seq2 = 'abb'\n",
    "\n",
    "result = longest_common_subsequence(seq1, seq2)\n",
    "print(result)"
   ]
  },
  {
   "cell_type": "code",
   "execution_count": 28,
   "metadata": {},
   "outputs": [
    {
     "name": "stdout",
     "output_type": "stream",
     "text": [
      "ay\n"
     ]
    }
   ],
   "source": [
    "# ax, ay\n",
    "# Note that this deterministically finds only ONE possible valid longest subsequence.\n",
    "# We can expand the idea to include all possible longest subsequence by adding randomness \n",
    "# We would get rid of the >= and change to > + random choice between max1, max2, max3)\n",
    "\n",
    "seq1 = 'axyt'\n",
    "seq2 = 'ayzx'\n",
    "\n",
    "result = longest_common_subsequence(seq1, seq2)\n",
    "print(result)    "
   ]
  },
  {
   "cell_type": "code",
   "execution_count": 29,
   "metadata": {},
   "outputs": [
    {
     "name": "stdout",
     "output_type": "stream",
     "text": [
      "abbcd\n"
     ]
    }
   ],
   "source": [
    "# abbcd\n",
    "seq1 = 'abbcdb'\n",
    "seq2 = 'bxabdbcd'\n",
    "\n",
    "result = longest_common_subsequence(seq1, seq2)\n",
    "print(result)   "
   ]
  },
  {
   "cell_type": "markdown",
   "metadata": {},
   "source": [
    "#### Thanks for your time...\n",
    "#### I finally coded it since wanting to do so in Feb/March 2020(!) out of inspiration following meditation - that too, after a while"
   ]
  }
 ],
 "metadata": {
  "kernelspec": {
   "display_name": "Python 3",
   "language": "python",
   "name": "python3"
  },
  "language_info": {
   "codemirror_mode": {
    "name": "ipython",
    "version": 3
   },
   "file_extension": ".py",
   "mimetype": "text/x-python",
   "name": "python",
   "nbconvert_exporter": "python",
   "pygments_lexer": "ipython3",
   "version": "3.7.6"
  }
 },
 "nbformat": 4,
 "nbformat_minor": 4
}
