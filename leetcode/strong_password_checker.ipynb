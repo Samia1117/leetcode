{
 "cells": [
  {
   "cell_type": "markdown",
   "metadata": {},
   "source": [
    "### Taken from: https://leetcode.com/problems/strong-password-checker/"
   ]
  },
  {
   "cell_type": "code",
   "execution_count": 1,
   "metadata": {},
   "outputs": [],
   "source": [
    "def detect_consecutive_repeats(password_str, upper_alph, lower_alph, digits_str):\n",
    "    seen = []\n",
    "    seen_counts = []\n",
    "    repeats = []\n",
    "    for ch in password_str:\n",
    "        if ch in seen:\n",
    "            idx = seen.index(ch)\n",
    "            seen_counts[idx] +=1\n",
    "        else:\n",
    "            seen.append(ch)\n",
    "            seen_counts.append(0)\n",
    "    for count in seen_counts:\n",
    "        if count>=3:\n",
    "            repeats.append(count-2)\n",
    "    return repeats"
   ]
  },
  {
   "cell_type": "code",
   "execution_count": 2,
   "metadata": {},
   "outputs": [],
   "source": [
    "def min_steps_to_strong(password_str):\n",
    "    min_steps = 0\n",
    "    upper_alph = \"ABCDEFGHIJKLMNOPQRSTUVWXYZ\"\n",
    "    lower_alph = upper_alph.lower()\n",
    "    digits_str = \"0123456789\"\n",
    "    extra_letters = 0\n",
    "    add_ons = 0\n",
    "    repeats = detect_consecutive_repeats(password_str, upper_alph, lower_alph, digits_str)\n",
    "    n = len(password_str)\n",
    "    if n<6:\n",
    "        extra_letters = 6-n   # at least these many steps need to be added\n",
    "    if n>20:\n",
    "        if len(repeats) == 0:\n",
    "            removals = 20-n\n",
    "        else:\n",
    "            for extra_letter in repeats:\n",
    "                n -= extra_letter\n",
    "    if set(list(password_str)).intersection(set(list(upper_alph))) == 0:\n",
    "        if extra_letters ==0:\n",
    "            add_ons +=1\n",
    "        else:\n",
    "            add_ons +=1\n",
    "            extra_letters -=1\n",
    "    if set(list(password_str)).intersection(set(list(lower_alph))) == 0:\n",
    "        if extra_letters ==0:\n",
    "            add_ons +=1\n",
    "        else:\n",
    "            add_ons +=1\n",
    "            extra_letters -=1\n",
    "    if set(list(password_str)).intersection(set(list(digits_str))) == 0:\n",
    "        if extra_letters ==0:\n",
    "            add_ons +=1\n",
    "        else:\n",
    "            add_ons +=1\n",
    "            extra_letters -=1\n",
    "            "
   ]
  },
  {
   "cell_type": "code",
   "execution_count": null,
   "metadata": {},
   "outputs": [],
   "source": []
  }
 ],
 "metadata": {
  "kernelspec": {
   "display_name": "Python 3",
   "language": "python",
   "name": "python3"
  },
  "language_info": {
   "codemirror_mode": {
    "name": "ipython",
    "version": 3
   },
   "file_extension": ".py",
   "mimetype": "text/x-python",
   "name": "python",
   "nbconvert_exporter": "python",
   "pygments_lexer": "ipython3",
   "version": "3.7.6"
  }
 },
 "nbformat": 4,
 "nbformat_minor": 4
}
