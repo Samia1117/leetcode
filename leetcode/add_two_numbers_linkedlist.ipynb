{
 "cells": [
  {
   "cell_type": "markdown",
   "metadata": {},
   "source": [
    "####  Are given two linked-lists representing two non-negative integers. The digits are stored in reverse order and each of their nodes contain a single digit. Add the two numbers and return it as a linked list."
   ]
  },
  {
   "cell_type": "code",
   "execution_count": 14,
   "metadata": {},
   "outputs": [],
   "source": [
    "# Definition for singly-linked list.\n",
    "class ListNode(object):\n",
    "    def __init__(self, x):\n",
    "        self.val = x\n",
    "        self.next = None\n",
    "\n",
    "class Solution:\n",
    "    def addTwoNumbers(self, l1, l2, c = 0):\n",
    "        # Fill this in.\n",
    "        # Digits are stored in reverse order - should that tell me to add digits place by place and carry remainders,\n",
    "        # or turn the digits into a string of the complete number and then convert the string to int and simply add?\n",
    "        \n",
    "        # can think of roughly 2 solutions\n",
    "        \n",
    "        # choose a new list to capture combined results\n",
    "        l3 = ListNode(0)\n",
    "        l3_head = l3\n",
    "        while(l1!= None or l2!=None): # Not both are None\n",
    "            if l1 == None:\n",
    "                print(\"bigger list is l2\")\n",
    "                digit_sum = l2.val\n",
    "                l3.val += digit_sum\n",
    "                l3 = l3.next\n",
    "                l2 = l2.next\n",
    "            elif l2 == None:\n",
    "                print(\"bigger list is l1\")\n",
    "                digit_sum = l2.val\n",
    "                l3.val += digit_sum\n",
    "                l3 = l3.next\n",
    "                l1 = l1.next\n",
    "            else: # Both are non-None\n",
    "                digit_sum = l1.val + l2.val + l3.val\n",
    "                print(\"digit sum is: \", digit_sum)\n",
    "                if digit_sum<10:\n",
    "                    print(\"digit sum is leq 10: \", digit_sum)\n",
    "                    l3.val += digit_sum\n",
    "                    l3.next = ListNode(0)\n",
    "                else:\n",
    "                    print(\"digit sum is geq 10: \", digit_sum)\n",
    "                    if digit_sum == 10:\n",
    "                        l3.val = 0\n",
    "                    else:\n",
    "                        l3.val += digit_sum%10\n",
    "                    l3.next = ListNode(1)   # carry over the 1 either case\n",
    "                    \n",
    "                l3 = l3.next\n",
    "                l2 = l2.next\n",
    "                l1 = l1.next\n",
    "        return l3_head\n",
    "\n"
   ]
  },
  {
   "cell_type": "code",
   "execution_count": 15,
   "metadata": {},
   "outputs": [
    {
     "name": "stdout",
     "output_type": "stream",
     "text": [
      "digit sum is:  5\n",
      "digit sum is leq 10:  5\n",
      "digit sum is:  11\n",
      "digit sum is geq 10:  11\n",
      "digit sum is:  10\n",
      "digit sum is geq 10:  10\n",
      "5\n",
      "1\n",
      "0\n",
      "1\n"
     ]
    }
   ],
   "source": [
    "l1 = ListNode(1)\n",
    "l1.next = ListNode(2)\n",
    "l1.next.next = ListNode(3)\n",
    "\n",
    "l2 = ListNode(4)\n",
    "l2.next = ListNode(9)\n",
    "l2.next.next = ListNode(6)\n",
    "result = Solution().addTwoNumbers(l1, l2)\n",
    "while result:\n",
    "    print(result.val)\n",
    "    result = result.next"
   ]
  },
  {
   "cell_type": "code",
   "execution_count": 16,
   "metadata": {},
   "outputs": [
    {
     "name": "stdout",
     "output_type": "stream",
     "text": [
      "digit sum is:  5\n",
      "digit sum is leq 10:  5\n",
      "digit sum is:  11\n",
      "digit sum is geq 10:  11\n",
      "digit sum is:  10\n",
      "digit sum is geq 10:  10\n",
      "bigger list is l2\n",
      "5\n",
      "1\n",
      "0\n",
      "2\n"
     ]
    }
   ],
   "source": [
    "l1 = ListNode(1)\n",
    "l1.next = ListNode(2)\n",
    "l1.next.next = ListNode(3)\n",
    "\n",
    "l2 = ListNode(4)\n",
    "l2.next = ListNode(9)\n",
    "l2.next.next = ListNode(6)\n",
    "l2.next.next.next = ListNode(1)\n",
    "result = Solution().addTwoNumbers(l1, l2)\n",
    "while result:\n",
    "    print(result.val)\n",
    "    result = result.next"
   ]
  },
  {
   "cell_type": "code",
   "execution_count": null,
   "metadata": {},
   "outputs": [],
   "source": []
  }
 ],
 "metadata": {
  "kernelspec": {
   "display_name": "Python 3",
   "language": "python",
   "name": "python3"
  },
  "language_info": {
   "codemirror_mode": {
    "name": "ipython",
    "version": 3
   },
   "file_extension": ".py",
   "mimetype": "text/x-python",
   "name": "python",
   "nbconvert_exporter": "python",
   "pygments_lexer": "ipython3",
   "version": "3.7.6"
  }
 },
 "nbformat": 4,
 "nbformat_minor": 4
}
