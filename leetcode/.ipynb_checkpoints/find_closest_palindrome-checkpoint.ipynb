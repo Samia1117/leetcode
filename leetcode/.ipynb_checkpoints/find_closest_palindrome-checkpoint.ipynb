{
 "cells": [
  {
   "cell_type": "markdown",
   "metadata": {},
   "source": [
    "#### Source: https://leetcode.com/problems/find-the-closest-palindrome/"
   ]
  },
  {
   "cell_type": "code",
   "execution_count": null,
   "metadata": {},
   "outputs": [],
   "source": [
    "class Solution(object):\n",
    "    \n",
    "    def lowest_palindrome_after_me(self, n_list):\n",
    "        \n",
    "        \n",
    "    \n",
    "    def nearestPalindromic(self, n):\n",
    "        \"\"\"\n",
    "        :type n: str\n",
    "        :rtype: str\n",
    "        \"\"\"\n",
    "        diff_indices = []\n",
    "        diff_units = []\n",
    "        n_list = list(n)\n",
    "        \n",
    "        if len(n) ==1:\n",
    "            if n==\"0\":\n",
    "                return n\n",
    "            return str(int(n)-1)\n",
    "\n",
    "        mid = int(len(n)/2)\n",
    "        if len(n)%2 == 0:\n",
    "            for i in range(0, mid):\n",
    "                if n[i] != n[-1-i]:\n",
    "                    n_list[-1-i] = n[i]\n",
    "                    #diff_indices.append((i, -1-i))\n",
    "                    diff_units.append((n[i], n[-1-i]))\n",
    "\n",
    "        elif len(n)%2 != 0: \n",
    "            for i in range(0, mid+1):\n",
    "                if n[i] != n[-1-i]:\n",
    "                    n_list[-1-i] = n[i]\n",
    "                    #diff_indices.append((i, -1-i))\n",
    "                    diff_units.append((n[i], n[-1-i]))\n",
    "\n",
    "        if len(diff_units) == 0:  # no diffs\n",
    "            return self.lowest_palindrome_after_me(n_list)\n",
    "        return ''.join(n_list)"
   ]
  },
  {
   "cell_type": "code",
   "execution_count": 46,
   "metadata": {},
   "outputs": [],
   "source": [
    "def closest_palindrome(n):  # n = a palindrome string\n",
    "    diff_indices = []\n",
    "    diff_units = []\n",
    "        \n",
    "    mid = int(len(n)/2)\n",
    "    print(\"mid: \", mid)\n",
    "    if len(n)%2 == 0:\n",
    "        print(\"length is odd\")\n",
    "        for i in range(0, mid):\n",
    "            if n[i] != n[-1-i]:\n",
    "                print(\"found a diff: \", n[i], \" and \", n[-1-i])\n",
    "                diff_indices.append((i, -1-i))\n",
    "                diff_units.append((n[i], n[-1-i]))\n",
    "                \n",
    "    elif len(n)%2 != 0:  # even, as 3/2 = 1, but length 3 = 4 elts\n",
    "        print(\"length is even\")\n",
    "        for i in range(0, mid+1):\n",
    "            if n[i] != n[-1-i]:\n",
    "                print(\"found a diff: \", n[i], \" and \", n[-1-i])\n",
    "                diff_indices.append((i, -1-i))\n",
    "                diff_units.append((n[i], n[-1-i]))\n",
    "\n",
    "    if len(diff_units) == 0:\n",
    "        print(\"No diffs found: Palindrome!\")\n",
    "        return 0\n",
    "    \n",
    "    print(\"diff_indices: \", diff_indices)\n",
    "    print(\"diff_units: \", diff_units)\n",
    "    new_str = list(n)\n",
    "        \n",
    "    for d in range(len(diff_indices)):  # go through every item that's different\n",
    "        diff_idx0 = diff_indices[d][0]      # index of dth difference\n",
    "        diff_idx1 = diff_indices[d][1] \n",
    "        \n",
    "        print(\"diff_idx0: \", diff_idx0)\n",
    "        print(\"diff_idx1: \", diff_idx1)\n",
    "        if diff_units[d][0]>diff_units[d][1]:     # in this difference, which is the smaller number?\n",
    "            print(\"diff_unit[0] is greater: \", diff_units[d][0])\n",
    "            print(\"old new_str: \", new_str)\n",
    "            new_str[diff_idx0] = diff_units[d][1]\n",
    "            print(\"after change by second diff element: \", new_str)\n",
    "            \n",
    "        else:\n",
    "            print(\"diff_unit[1] is greater: \", diff_units[d][1])\n",
    "            print(\"old new_str: \", new_str)\n",
    "            new_str[diff_idx1] = diff_units[d][0]\n",
    "            print(\"after change by second diff element: \", new_str)\n",
    "    \n",
    "    return ''.join(new_str)\n"
   ]
  },
  {
   "cell_type": "code",
   "execution_count": 47,
   "metadata": {},
   "outputs": [
    {
     "name": "stdout",
     "output_type": "stream",
     "text": [
      "mid:  1\n",
      "length is even\n",
      "found a diff:  1  and  3\n",
      "diff_indices:  [(0, -1)]\n",
      "diff_units:  [('1', '3')]\n",
      "diff_idx0:  0\n",
      "diff_idx1:  -1\n",
      "diff_unit[1] is greater:  3\n",
      "old new_str:  ['1', '2', '3']\n",
      "after change by second diff element:  ['1', '2', '1']\n",
      "****  121  *****\n"
     ]
    }
   ],
   "source": [
    "pal_str = \"123\"\n",
    "result = closest_palindrome(pal_str)\n",
    "print(\"**** \", result, \" *****\")"
   ]
  },
  {
   "cell_type": "code",
   "execution_count": 48,
   "metadata": {},
   "outputs": [
    {
     "name": "stdout",
     "output_type": "stream",
     "text": [
      "mid:  2\n",
      "length is odd\n",
      "found a diff:  1  and  3\n",
      "found a diff:  2  and  3\n",
      "diff_indices:  [(0, -1), (1, -2)]\n",
      "diff_units:  [('1', '3'), ('2', '3')]\n",
      "diff_idx0:  0\n",
      "diff_idx1:  -1\n",
      "diff_unit[1] is greater:  3\n",
      "old new_str:  ['1', '2', '3', '3']\n",
      "after change by second diff element:  ['1', '2', '3', '1']\n",
      "diff_idx0:  1\n",
      "diff_idx1:  -2\n",
      "diff_unit[1] is greater:  3\n",
      "old new_str:  ['1', '2', '3', '1']\n",
      "after change by second diff element:  ['1', '2', '2', '1']\n",
      "****  1221  *****\n"
     ]
    }
   ],
   "source": [
    "pal_str = \"1233\"\n",
    "result = closest_palindrome(pal_str)\n",
    "print(\"**** \", result, \" *****\")"
   ]
  },
  {
   "cell_type": "code",
   "execution_count": 49,
   "metadata": {},
   "outputs": [
    {
     "name": "stdout",
     "output_type": "stream",
     "text": [
      "mid:  3\n",
      "length is even\n",
      "No diffs found: Palindrome!\n",
      "****  0  *****\n"
     ]
    }
   ],
   "source": [
    "pal_str = \"3217123\"\n",
    "result = closest_palindrome(pal_str)\n",
    "print(\"**** \", result, \" *****\")"
   ]
  },
  {
   "cell_type": "code",
   "execution_count": 50,
   "metadata": {},
   "outputs": [
    {
     "name": "stdout",
     "output_type": "stream",
     "text": [
      "mid:  6\n",
      "length is even\n",
      "found a diff:  5  and  3\n",
      "diff_indices:  [(3, -4)]\n",
      "diff_units:  [('5', '3')]\n",
      "diff_idx0:  3\n",
      "diff_idx1:  -4\n",
      "diff_unit[0] is greater:  5\n",
      "old new_str:  ['3', '2', '1', '5', '6', '2', '7', '2', '6', '3', '1', '2', '3']\n",
      "after change by second diff element:  ['3', '2', '1', '3', '6', '2', '7', '2', '6', '3', '1', '2', '3']\n",
      "****  3213627263123  *****\n"
     ]
    }
   ],
   "source": [
    "pal_str = \"3215627263123\"\n",
    "result = closest_palindrome(pal_str)\n",
    "print(\"**** \", result, \" *****\")"
   ]
  },
  {
   "cell_type": "code",
   "execution_count": null,
   "metadata": {},
   "outputs": [],
   "source": []
  }
 ],
 "metadata": {
  "kernelspec": {
   "display_name": "Python 3",
   "language": "python",
   "name": "python3"
  },
  "language_info": {
   "codemirror_mode": {
    "name": "ipython",
    "version": 3
   },
   "file_extension": ".py",
   "mimetype": "text/x-python",
   "name": "python",
   "nbconvert_exporter": "python",
   "pygments_lexer": "ipython3",
   "version": "3.7.6"
  }
 },
 "nbformat": 4,
 "nbformat_minor": 4
}
