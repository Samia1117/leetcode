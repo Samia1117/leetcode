{
 "cells": [
  {
   "cell_type": "code",
   "execution_count": 1,
   "metadata": {},
   "outputs": [],
   "source": [
    "def add_max_elts(smaller, bigger, combined):\n",
    "    # base case 1: used up all elements in one of the lists\n",
    "    if len(smaller)==0:\n",
    "        print(\"Ran out of elements in first list\\n\")\n",
    "        print(\"Combined is: \", combined)\n",
    "        print(\"Bigger is: \", bigger)\n",
    "        print(\"Combined + bigger is: \", combined+bigger)\n",
    "        return combined+bigger\n",
    "\n",
    "    for i in range(len(smaller)):\n",
    "        if smaller[0]>bigger[0]:\n",
    "            return add_max_elts(bigger, smaller, combined)\n",
    "        else:\n",
    "            to_add = smaller.pop(0)\n",
    "            combined.append(to_add)\n",
    "            #print(\"Added an elt, current combined: \", combined)\n",
    "    # base case 2: smaller list should be empty\n",
    "    if len(smaller)>0:\n",
    "        print(\"Raise Error, smaller list was looped through but not nulled!: \", smaller)\n",
    "    return combined+bigger\n"
   ]
  },
  {
   "cell_type": "code",
   "execution_count": 2,
   "metadata": {},
   "outputs": [],
   "source": [
    "def findMedianSortedArrays(nums1, nums2):\n",
    "    \"\"\"\n",
    "    :type nums1: List[int]\n",
    "    :type nums2: List[int]\n",
    "    :rtype: float\n",
    "    \"\"\"\n",
    "    combined = []\n",
    "    median = 0\n",
    "\n",
    "    if nums1[0]<=nums2[0]:\n",
    "        combined = add_max_elts(nums1, nums2, combined)\n",
    "    else:\n",
    "        combined = add_max_elts(nums2, nums1, combined)\n",
    "\n",
    "    print(\"Combined list: \", combined)\n",
    "\n",
    "    size = int(len(combined))\n",
    "    if size%2 ==0:\n",
    "        a1 = combined[int(size/2)]\n",
    "        a2 = combined[int(size/2) -1]\n",
    "        median = (a1+a2)/2\n",
    "        print(\"median: \", median)\n",
    "    else:\n",
    "        median = combined[int(size//2)]\n",
    "        print(\"median: \", median)\n",
    "\n",
    "    return median\n"
   ]
  },
  {
   "cell_type": "code",
   "execution_count": 3,
   "metadata": {},
   "outputs": [
    {
     "name": "stdout",
     "output_type": "stream",
     "text": [
      "Combined list:  [1, 2, 3, 4]\n",
      "median:  2.5\n"
     ]
    }
   ],
   "source": [
    "nums1 = [1,2]\n",
    "nums2 = [3,4]\n",
    "\n",
    "ans = findMedianSortedArrays(nums1, nums2)"
   ]
  },
  {
   "cell_type": "code",
   "execution_count": 15,
   "metadata": {},
   "outputs": [
    {
     "name": "stdout",
     "output_type": "stream",
     "text": [
      "Combined list:  [0, 1, 2, 2, 3, 4, 5]\n",
      "median:  2\n"
     ]
    }
   ],
   "source": [
    "nums1 = [1,2,4,5]\n",
    "nums2 = [0,2,3]\n",
    "\n",
    "ans = findMedianSortedArrays(nums1, nums2)"
   ]
  },
  {
   "cell_type": "code",
   "execution_count": 16,
   "metadata": {},
   "outputs": [
    {
     "name": "stdout",
     "output_type": "stream",
     "text": [
      "Combined list:  [0, 1, 2, 2, 3, 3, 4, 5, 5, 6, 7, 7, 8, 8]\n",
      "median:  4.5\n"
     ]
    }
   ],
   "source": [
    "nums1 = [1,2,4,5,6,8]\n",
    "nums2 = [0,2,3,3,5,7,7,8]\n",
    "\n",
    "ans = findMedianSortedArrays(nums1, nums2)"
   ]
  },
  {
   "cell_type": "code",
   "execution_count": 4,
   "metadata": {},
   "outputs": [
    {
     "name": "stdout",
     "output_type": "stream",
     "text": [
      "2.5\n"
     ]
    }
   ],
   "source": [
    "print((3+2)/2)"
   ]
  },
  {
   "cell_type": "code",
   "execution_count": null,
   "metadata": {},
   "outputs": [],
   "source": []
  }
 ],
 "metadata": {
  "kernelspec": {
   "display_name": "Python 3",
   "language": "python",
   "name": "python3"
  },
  "language_info": {
   "codemirror_mode": {
    "name": "ipython",
    "version": 3
   },
   "file_extension": ".py",
   "mimetype": "text/x-python",
   "name": "python",
   "nbconvert_exporter": "python",
   "pygments_lexer": "ipython3",
   "version": "3.7.6"
  }
 },
 "nbformat": 4,
 "nbformat_minor": 4
}
