{
 "cells": [
  {
   "cell_type": "code",
   "execution_count": null,
   "metadata": {},
   "outputs": [],
   "source": [
    "# Now we reverse the linked list in groups of k<n elements at a time, \n",
    "# ignoring the last group if it is not a multiple of k\n",
    "\n",
    "# Build a LinkedList\n",
    "head = ListNode(1)\n",
    "walker = head    # inspired by the name 'page table walker' in architecture, somehow\n",
    "for i in range(2, 10):\n",
    "    walker.next = ListNode(i)\n",
    "    walker = walker.next\n",
    "\n",
    "# (1) Reverse in groups of k + (2) Link op last Node of first reversed group to first Node of new reversed group\n",
    "final_head = None\n",
    "lastNode = \"\"\n",
    "lastLink = None\n",
    "while lastNode !=None:\n",
    "    results = reverse_linkedlist_k(head,k)\n",
    "    rev_head = results[0]\n",
    "    if lastLink !=None:  # lastlink is the last node of a reversed group\n",
    "        lastLink.next = rev_head    # link it to first node of next reversed group\n",
    "        print(\"last link is: \", lastLink.val, \" and is linked to: \", rev_head.val)\n",
    "    else:               # reversed head of first group is the first element of linked list\n",
    "        final_head = rev_head\n",
    "        print(\"final head is: \", final_head.val)\n",
    "    while rev_head!= None:\n",
    "        print(\"list element: \", rev_head.val)\n",
    "        if rev_head.next == None:  # if last element of reversed group, it is the \"lastLink\"\n",
    "            lastLink = rev_head \n",
    "            print(\"last link number is: \", lastLink.val)\n",
    "        rev_head = rev_head.next\n",
    "    lastNode = results[1]\n",
    "    head = lastNode"
   ]
  },
  {
   "cell_type": "code",
   "execution_count": null,
   "metadata": {},
   "outputs": [],
   "source": [
    "def reverse_k_and_link(head, k):\n",
    "    final_head = None\n",
    "    lastNode = \"\"\n",
    "    lastLink = None\n",
    "    while lastNode !=None:\n",
    "        results = reverse_linkedlist_k(head, 2)\n",
    "        rev_head = results[0]\n",
    "        if lastLink !=None:  # lastlink is the last node of a reversed group\n",
    "            lastLink.next = rev_head    # link it to first node of next reversed group\n",
    "            print(\"last link is: \", lastLink.val, \" and is linked to: \", rev_head.val)\n",
    "        else:               # reversed head of first group is the first element of linked list\n",
    "            final_head = rev_head\n",
    "            print(\"final head is: \", final_head.val)\n",
    "        while rev_head!= None:\n",
    "            print(\"list element: \", rev_head.val)\n",
    "            if rev_head.next == None:  # if last element of reversed group, it is the \"lastLink\"\n",
    "                lastLink = rev_head \n",
    "                print(\"last link number is: \", lastLink.val)\n",
    "            rev_head = rev_head.next\n",
    "        lastNode = results[1]\n",
    "        head = lastNode"
   ]
  }
 ],
 "metadata": {
  "kernelspec": {
   "display_name": "Python 3",
   "language": "python",
   "name": "python3"
  },
  "language_info": {
   "codemirror_mode": {
    "name": "ipython",
    "version": 3
   },
   "file_extension": ".py",
   "mimetype": "text/x-python",
   "name": "python",
   "nbconvert_exporter": "python",
   "pygments_lexer": "ipython3",
   "version": "3.7.6"
  }
 },
 "nbformat": 4,
 "nbformat_minor": 4
}
